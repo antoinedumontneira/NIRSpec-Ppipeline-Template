{
 "cells": [
  {
   "cell_type": "markdown",
   "id": "7b09dd89",
   "metadata": {},
   "source": [
    "# 1. Introduction\n",
    "This notebook shows how to run Stage3 pipeline version 1.12.5 (Release 20.10.2023). Previous JWST pipelines realeses can be check here: https://github.com/spacetelescope/jwst/releases \n",
    "\n",
    "## 1.1 JWST PIPELINE INSTALLATION<a name=\"pipeline_installation\"></a>\n",
    "In this section I explain how to install the JWST pipeline, necesary for the data reduction. \n",
    "\n",
    "The easiest way to install the pipeline is via pip. Below we show how to create a new conda environment, activate that environment, and then install the latest released version of the pipeline. You can name your environment anything you like. In the lines below, replace < env_name > with your chosen environment name.\n",
    "\n",
    "<code> conda create -n <env_name> python\n",
    "<code> conda activate <env_name>\n",
    "    \n",
    "After Creating the conda enviroment, you need to add the CDRS files to the bash_profile. \n",
    "you can simply use this two code lines in your terminal;\n",
    "    \n",
    "<code> touch ~/.bash_profile; open ~/.bash_profile </code>\n",
    "    \n",
    "And inside the TEXT file paste these two lines: \n",
    "    \n",
    "<code> export CRDS_PATH=$HOME/crds_cache\n",
    "<code> export CRDS_SERVER_URL=https://jwst-crds.stsci.edu </code>\n",
    "\n",
    "Adding the PATH for the CRDS reference files in the bas_profile is recomended over the <code>!export</code> inline option inside jupyter notebook.\n",
    "\n",
    "Now in your terminal just load the enviroment  <env_name>, execute jupyter notebook and you are done!: \n",
    "\n",
    "<code> conda activate < env_name >\n",
    "<code> jupyter notebook </code>\n"
   ]
  },
  {
   "cell_type": "code",
   "execution_count": null,
   "id": "35f85e83",
   "metadata": {},
   "outputs": [],
   "source": [
    "## HERE I WILL INSTALL INLINE THE REQUIRED VERSION OF THE JWST PIPELINE ##\n",
    "## I NEEDED TO CLOSE AND HALT AND RE-OPEN THE NOTEBOOK TO IMPORT THE RIGHT VERSION OF THE PIPELINE\n",
    "\n",
    "!pip install jwst==1.15.0"
   ]
  },
  {
   "cell_type": "markdown",
   "id": "76a2bb0c",
   "metadata": {},
   "source": [
    "#### Please check that the pipeline version is 1.12.5"
   ]
  },
  {
   "cell_type": "code",
   "execution_count": 1,
   "id": "3130c06f",
   "metadata": {},
   "outputs": [
    {
     "name": "stdout",
     "output_type": "stream",
     "text": [
      "PIPELINE VERSION =  1.15.0\n"
     ]
    }
   ],
   "source": [
    "import jwst\n",
    "print(\"PIPELINE VERSION = \",jwst.__version__)"
   ]
  },
  {
   "cell_type": "markdown",
   "id": "038641f1",
   "metadata": {},
   "source": [
    "**SETUP CRDS_CONTEXT FILE FOR REPROCUDIBILITY**\n",
    "\n",
    "Check list of context files here: https://jwst-crds.stsci.edu/ "
   ]
  },
  {
   "cell_type": "code",
   "execution_count": 2,
   "id": "44c3e99d",
   "metadata": {},
   "outputs": [],
   "source": [
    "import os\n",
    "os.environ[\"CRDS_CONTEXT\"] = \"jwst_1256.pmap\"  #### REALEASE DATE 2024-07-26\t"
   ]
  },
  {
   "cell_type": "code",
   "execution_count": 3,
   "id": "45e5fa32",
   "metadata": {},
   "outputs": [],
   "source": [
    "### LOAD NECESARY PACKAGES #####\n",
    "import numpy as np\n",
    "from glob import glob\n",
    "import shutil\n",
    "from pathlib import Path\n",
    "import json\n",
    "import os\n",
    "from astropy.io import fits\n",
    "import matplotlib.pyplot as plt\n",
    "from astropy.table import vstack\n",
    "import multiprocessing\n"
   ]
  },
  {
   "cell_type": "code",
   "execution_count": 4,
   "id": "124d111f",
   "metadata": {},
   "outputs": [
    {
     "name": "stdout",
     "output_type": "stream",
     "text": [
      "Copping uncal files\n",
      "Done copping uncal files\n"
     ]
    }
   ],
   "source": [
    "####################### SET WORKING FIRECTORY, WHERE THE RAW DATA IS LOCATED ###########################\n",
    "out_dir = \"/Users/dumont/Documents/ReveaLLGN/RESULTS/M87/\"\n",
    "in_dir = \"/Users/dumont/Documents/ReveaLLGN/DATA/M87/MAST_2024-07-10T1403/JWST/\"\n",
    "\n",
    "saving_path = out_dir + \"DRS3/\" \n",
    "list_folders = sorted(glob(in_dir+\"*\", recursive = True)) # List of folders of the RAW data\n",
    "\n",
    "# Make sure the output directory exists before copying any data\n",
    "if not os.path.exists(out_dir):\n",
    "    os.makedirs(out_dir)\n",
    "if not os.path.exists(saving_path):\n",
    "    os.makedirs(saving_path)\n",
    "###### COPY FILES TO WORKING DIRECTORY ################\n",
    "print(\"Copping uncal files\")\n",
    "for folder in list_folders: \n",
    "    for uncal_file in glob(folder + \"/*uncal.fits\"):\n",
    "        shutil.copy(uncal_file, out_dir)\n",
    "print(\"Done copping uncal files\")"
   ]
  },
  {
   "cell_type": "markdown",
   "id": "e19fe7d4",
   "metadata": {},
   "source": [
    "# RUN STAGE 1 PIPELINE\n",
    "### with multiprocessing\n",
    "\n",
    "Here we load and run STAGE1 pipeline, saving the JUMP output to flag snoball with an external code called \"snoblind\". The notebook uses the python scrypt **JWST_PIPELINE.py** to run specific steps of the pipeline and also allowing multiprocessing for speeding up the data reduction.\n",
    "\n",
    "<span style=\"color:red\"> IMPORTANT !!! </span> STAGE1 pipeline requires OPENCV installed to Run JUMP detection. Please PIP install OPENCV in your terminal before opening this jupyter notebook.:\n",
    "\n",
    "<code> pip install -q opencv-python </code>\n"
   ]
  },
  {
   "cell_type": "markdown",
   "id": "f0226522",
   "metadata": {},
   "source": [
    "### FIRST RUN STAGE 1 PIPELINE ONLY TO SAVE JUMP FILES TO REMOVE SNOWBALLS\n",
    "if you want to skip the snowball flagging, then simply run STAGE1 pipeline normally, i.e remove the jump.expand_large_events = False below"
   ]
  },
  {
   "cell_type": "code",
   "execution_count": null,
   "id": "5eeaec81",
   "metadata": {},
   "outputs": [],
   "source": [
    "from JWST_PIPELINE import PIPELINE_DETECTOR1_BEFORE_SNOWBLIND,mk_config_det1_before_snowblind\n",
    "\n",
    "# get the uncal files to run\n",
    "uncal_files_list =  glob(out_dir + \"/*_uncal.fits\")\n",
    "## MAKE CONFIG FILE ##\n",
    "mk_config_det1_before_snowblind(out_dir,uncal_files_list[0]) ### CHOOSE RANDOM UNCAL FILE\n",
    "print('Will run the pipeline on {} files'.format(len(uncal_files_list)))\n",
    "# the output list should be the same length as the files to run\n",
    "outptd = [out_dir for _ in range(len(uncal_files_list))]\n",
    "# set the pool and run multiprocess\n",
    "cores2use = 5 ### NUMBER OF CORES TO USE \n",
    "with multiprocessing.Pool(cores2use) as pool:\n",
    "    pool.starmap(PIPELINE_DETECTOR1_BEFORE_SNOWBLIND, zip(uncal_files_list, outptd))\n",
    "    \n",
    "### REMOVE TEMPORARY UNCAL FILES OUTPUT DIRECTORY ################\n",
    "for file in glob(out_dir + \"*_uncal.fits\"):\n",
    "    os.remove(file)  \n",
    "### COPY JUMP TO SAVING PATH #############\n",
    "for jump_file in glob(out_dir + \"*_jump.fits\"):\n",
    "    jump_folder = saving_path + 'JUMPS_B_snowblind/'\n",
    "    if not os.path.exists(jump_folder):\n",
    "        os.makedirs(jump_folder)\n",
    "    shutil.copy(jump_file, jump_folder)     "
   ]
  },
  {
   "cell_type": "markdown",
   "id": "a9787a94",
   "metadata": {},
   "source": [
    "## RUN SNOBALL REMOVAL WITH SNOWBLIND\n",
    "\n",
    "> __IMPORTANT CHANGES FROM PREVIOUS PIPELINE VERSION__\n",
    "Previous pipeline routine we used the Chris Willot code _DoSnowballFlag_ for removing large cosmic ray hits. \n",
    "Since then a new code has been developed _Snowblind_ by James Davis at MPIA, and based on my test it performs better. Thus, we use it here instead of _DoSnowballFlag_.\n",
    "\n",
    "Based on the test on Leak Images from M81 and NGC4395 the best parameters are:\n",
    "1. min_radius = 3\n",
    "2. growth_factor = 1.5"
   ]
  },
  {
   "cell_type": "code",
   "execution_count": null,
   "id": "5e958dc5",
   "metadata": {},
   "outputs": [],
   "source": [
    "!pip install snowblind"
   ]
  },
  {
   "cell_type": "raw",
   "id": "73ada640",
   "metadata": {},
   "source": [
    "## Installation and set up \n",
    "!pip install snowblind\n",
    "## I also had to install SKIMAGE from sci-kit learn"
   ]
  },
  {
   "cell_type": "code",
   "execution_count": null,
   "id": "9db5c88a",
   "metadata": {
    "scrolled": true
   },
   "outputs": [],
   "source": [
    "from JWST_PIPELINE import run_snowblind\n",
    "### LOAD ALL JUMP FILES FROM THE OUTPUT DIRECTORY\n",
    "jump_files_list  =  glob(out_dir + \"/*_jump.fits\")\n",
    "# set the pool and run multiprocess\n",
    "# the output list should be the same length as the files to run\n",
    "outptd = [out_dir for _ in range(len(jump_files_list))]\n",
    "cores2use = 5\n",
    "with multiprocessing.Pool(cores2use) as pool:\n",
    "    pool.starmap(run_snowblind, zip(outptd,jump_files_list))\n",
    "       \n",
    "#### CHANGE THE SUFFIX OF TEMPORARY SNOWBLIND_JUMPS TO JUMPS\n",
    "for jump_file in glob(out_dir + \"*_snowblind.fits\"):\n",
    "    new_name = os.path.basename(jump_file).replace(\"snowblind\",\"jump\")\n",
    "    os.replace(jump_file, os.path.join(os.path.dirname(jump_file),new_name) )\n",
    "    "
   ]
  },
  {
   "cell_type": "markdown",
   "id": "b9103de7",
   "metadata": {},
   "source": [
    "## RUN THE REST OF STAGE1 PIPELINE ON JUMP.FITS FILES \n",
    "\n",
    "Since in the previous step we skip two steps after the JUMP detection; RampFitStep and GAINSCALE we need to Run the whole pipeline skipping previous steps until RampFittingStep"
   ]
  },
  {
   "cell_type": "markdown",
   "id": "9c94beeb",
   "metadata": {},
   "source": [
    "#### Running DETECTOR1 pipeline starting from RampFittingStep\n"
   ]
  },
  {
   "cell_type": "code",
   "execution_count": null,
   "id": "563d5da4",
   "metadata": {},
   "outputs": [],
   "source": [
    "from JWST_PIPELINE import PIPELINE_DETECTOR1_AFTER_SNOWBLIND,mk_config_det1_after_snowblind\n",
    "\n",
    "# get the jump files to run\n",
    "jump_files_list  =  glob(out_dir + \"/*_jump.fits\")\n",
    "## MAKE CONFIG FILE ##\n",
    "mk_config_det1_after_snowblind(out_dir,jump_files_list[0]) ### CHOOSE RANDOM JUMP FILE\n",
    "print('Will run the pipeline on {} files'.format(len(jump_files_list)))\n",
    "# the output list should be the same length as the files to run\n",
    "outptd = [out_dir for _ in range(len(jump_files_list))]\n",
    "# set the pool and run multiprocess\n",
    "cores2use = 5 ### NUMBER OF CORES TO USE \n",
    "with multiprocessing.Pool(cores2use) as pool:\n",
    "    pool.starmap(PIPELINE_DETECTOR1_AFTER_SNOWBLIND, zip(jump_files_list, outptd))\n",
    "    \n",
    "\n",
    "### REMOVE TEMPORARY RATEINTS FILES OUTPUT DIRECTORY ################\n",
    "for file in glob(out_dir + \"*_rateints.fits\"):\n",
    "    os.remove(file)  \n",
    "### REMOVE JUMP FILES FROM OUTPUT DIRECTORY ################\n",
    "for file in glob(out_dir + \"*_jump.fits\"):\n",
    "    os.remove(file)  \n",
    "### COPY RATE TO SAVING PATH #############\n",
    "for rate_file in glob(out_dir + \"*_rate.fits\"):\n",
    "    rate_folder = saving_path + 'RATES/'\n",
    "    if not os.path.exists(rate_folder):\n",
    "        os.makedirs(rate_folder)\n",
    "    shutil.copy(rate_file, rate_folder)   \n"
   ]
  },
  {
   "cell_type": "markdown",
   "id": "e7364660",
   "metadata": {},
   "source": [
    "# RUN STAGE 2 PIPELINE\n",
    "\n",
    "NOW THAT SNOWBALLS HAVE BEEN IDENTIFIED and THERMAL FLUCTUATION REMOVED, WE CAN RUN STAGE 2 PIPELINE ON THE SCIENCE AND IMPRINTS\n"
   ]
  },
  {
   "cell_type": "code",
   "execution_count": null,
   "id": "c375bca7",
   "metadata": {},
   "outputs": [],
   "source": [
    "###### COPY STAGE2 FILES DIRECTORY ################\n",
    "print(\"Copping json files\")\n",
    "for folder in list_folders:\n",
    "    for json_file in glob(folder.rsplit(\"/\",1)[0] + \"/*_nrs1/*json\") :\n",
    "        shutil.copy(json_file, out_dir)\n",
    "print(\"Done copping json files\")\n",
    "###### COPY STAGE2 FILES DIRECTORY ################\n",
    "print(\"Copping json files\")\n",
    "for folder in list_folders:\n",
    "    for json_file in glob(folder.rsplit(\"/\",1)[0] + \"/*_nrs2/*json\") :\n",
    "        shutil.copy(json_file, out_dir)\n",
    "print(\"Done copping json files\")"
   ]
  },
  {
   "cell_type": "code",
   "execution_count": 5,
   "id": "90348914",
   "metadata": {},
   "outputs": [
    {
     "name": "stdout",
     "output_type": "stream",
     "text": [
      "######################### CREATING CONFIGURATION FILE ###############################\n"
     ]
    },
    {
     "name": "stderr",
     "output_type": "stream",
     "text": [
      "2024-07-16 18:35:46,163 - CRDS - ERROR -  Error determining best reference for 'pars-badpixselfcalstep'  =   Unknown reference type 'pars-badpixselfcalstep'\n",
      "2024-07-16 18:35:46,165 - CRDS - ERROR -  Error determining best reference for 'pars-nscleanstep'  =   Unknown reference type 'pars-nscleanstep'\n",
      "2024-07-16 18:35:46,194 - stpipe - INFO - PARS-RESAMPLESPECSTEP parameters found: /Users/dumont/crds_cache/references/jwst/nirspec/jwst_nirspec_pars-resamplespecstep_0001.asdf\n",
      "2024-07-16 18:35:46,229 - stpipe.Spec2Pipeline - INFO - Spec2Pipeline instance created.\n",
      "2024-07-16 18:35:46,232 - stpipe.Spec2Pipeline.assign_wcs - INFO - AssignWcsStep instance created.\n",
      "2024-07-16 18:35:46,234 - stpipe.Spec2Pipeline.badpix_selfcal - INFO - BadpixSelfcalStep instance created.\n",
      "2024-07-16 18:35:46,235 - stpipe.Spec2Pipeline.msa_flagging - INFO - MSAFlagOpenStep instance created.\n",
      "2024-07-16 18:35:46,237 - stpipe.Spec2Pipeline.nsclean - INFO - NSCleanStep instance created.\n",
      "2024-07-16 18:35:46,238 - stpipe.Spec2Pipeline.bkg_subtract - INFO - BackgroundStep instance created.\n",
      "2024-07-16 18:35:46,239 - stpipe.Spec2Pipeline.imprint_subtract - INFO - ImprintStep instance created.\n",
      "2024-07-16 18:35:46,240 - stpipe.Spec2Pipeline.extract_2d - INFO - Extract2dStep instance created.\n",
      "2024-07-16 18:35:46,243 - stpipe.Spec2Pipeline.master_background_mos - INFO - MasterBackgroundMosStep instance created.\n",
      "2024-07-16 18:35:46,244 - stpipe.Spec2Pipeline.master_background_mos.flat_field - INFO - FlatFieldStep instance created.\n",
      "2024-07-16 18:35:46,245 - stpipe.Spec2Pipeline.master_background_mos.pathloss - INFO - PathLossStep instance created.\n",
      "2024-07-16 18:35:46,247 - stpipe.Spec2Pipeline.master_background_mos.barshadow - INFO - BarShadowStep instance created.\n",
      "2024-07-16 18:35:46,248 - stpipe.Spec2Pipeline.master_background_mos.photom - INFO - PhotomStep instance created.\n",
      "2024-07-16 18:35:46,250 - stpipe.Spec2Pipeline.wavecorr - INFO - WavecorrStep instance created.\n",
      "2024-07-16 18:35:46,251 - stpipe.Spec2Pipeline.flat_field - INFO - FlatFieldStep instance created.\n",
      "2024-07-16 18:35:46,252 - stpipe.Spec2Pipeline.srctype - INFO - SourceTypeStep instance created.\n",
      "2024-07-16 18:35:46,253 - stpipe.Spec2Pipeline.straylight - INFO - StraylightStep instance created.\n",
      "2024-07-16 18:35:46,254 - stpipe.Spec2Pipeline.fringe - INFO - FringeStep instance created.\n",
      "2024-07-16 18:35:46,256 - stpipe.Spec2Pipeline.residual_fringe - INFO - ResidualFringeStep instance created.\n",
      "2024-07-16 18:35:46,257 - stpipe.Spec2Pipeline.pathloss - INFO - PathLossStep instance created.\n",
      "2024-07-16 18:35:46,258 - stpipe.Spec2Pipeline.barshadow - INFO - BarShadowStep instance created.\n",
      "2024-07-16 18:35:46,259 - stpipe.Spec2Pipeline.wfss_contam - INFO - WfssContamStep instance created.\n",
      "2024-07-16 18:35:46,260 - stpipe.Spec2Pipeline.photom - INFO - PhotomStep instance created.\n",
      "2024-07-16 18:35:46,262 - stpipe.Spec2Pipeline.pixel_replace - INFO - PixelReplaceStep instance created.\n",
      "2024-07-16 18:35:46,264 - stpipe.Spec2Pipeline.resample_spec - INFO - ResampleSpecStep instance created.\n",
      "2024-07-16 18:35:46,267 - stpipe.Spec2Pipeline.cube_build - INFO - CubeBuildStep instance created.\n",
      "2024-07-16 18:35:46,270 - stpipe.Spec2Pipeline.extract_1d - INFO - Extract1dStep instance created.\n"
     ]
    },
    {
     "name": "stdout",
     "output_type": "stream",
     "text": [
      "######################### CONFIGURATION FILE SAVED ###############################\n",
      "Will run the pipeline on 20 files\n"
     ]
    },
    {
     "name": "stderr",
     "output_type": "stream",
     "text": [
      "2024-07-16 18:35:49,445 - stpipe.Spec2Pipeline - INFO - Spec2Pipeline instance created.\n",
      "2024-07-16 18:35:49,446 - stpipe.Spec2Pipeline.assign_wcs - INFO - AssignWcsStep instance created.\n",
      "2024-07-16 18:35:49,447 - stpipe.Spec2Pipeline - INFO - Spec2Pipeline instance created.\n",
      "2024-07-16 18:35:49,448 - stpipe.Spec2Pipeline.badpix_selfcal - INFO - BadpixSelfcalStep instance created.\n",
      "2024-07-16 18:35:49,448 - stpipe.Spec2Pipeline.msa_flagging - INFO - MSAFlagOpenStep instance created.\n",
      "2024-07-16 18:35:49,449 - stpipe.Spec2Pipeline.assign_wcs - INFO - AssignWcsStep instance created.\n",
      "2024-07-16 18:35:49,449 - stpipe.Spec2Pipeline.nsclean - INFO - NSCleanStep instance created.\n",
      "2024-07-16 18:35:49,450 - stpipe.Spec2Pipeline.badpix_selfcal - INFO - BadpixSelfcalStep instance created.\n",
      "2024-07-16 18:35:49,450 - stpipe.Spec2Pipeline.msa_flagging - INFO - MSAFlagOpenStep instance created.\n",
      "2024-07-16 18:35:49,451 - stpipe.Spec2Pipeline.bkg_subtract - INFO - BackgroundStep instance created.\n",
      "2024-07-16 18:35:49,451 - stpipe.Spec2Pipeline - INFO - Spec2Pipeline instance created.\n",
      "2024-07-16 18:35:49,452 - stpipe.Spec2Pipeline.nsclean - INFO - NSCleanStep instance created.\n",
      "2024-07-16 18:35:49,452 - stpipe.Spec2Pipeline.imprint_subtract - INFO - ImprintStep instance created.\n",
      "2024-07-16 18:35:49,453 - stpipe.Spec2Pipeline.assign_wcs - INFO - AssignWcsStep instance created.\n",
      "2024-07-16 18:35:49,453 - stpipe.Spec2Pipeline.bkg_subtract - INFO - BackgroundStep instance created.\n",
      "2024-07-16 18:35:49,453 - stpipe.Spec2Pipeline.imprint_subtract - INFO - ImprintStep instance created.\n",
      "2024-07-16 18:35:49,453 - stpipe.Spec2Pipeline.badpix_selfcal - INFO - BadpixSelfcalStep instance created.\n",
      "2024-07-16 18:35:49,453 - stpipe.Spec2Pipeline.extract_2d - INFO - Extract2dStep instance created.\n",
      "2024-07-16 18:35:49,454 - stpipe.Spec2Pipeline - INFO - Spec2Pipeline instance created.\n",
      "2024-07-16 18:35:49,454 - stpipe.Spec2Pipeline.msa_flagging - INFO - MSAFlagOpenStep instance created.\n",
      "2024-07-16 18:35:49,454 - stpipe.Spec2Pipeline.extract_2d - INFO - Extract2dStep instance created.\n",
      "2024-07-16 18:35:49,455 - stpipe.Spec2Pipeline.nsclean - INFO - NSCleanStep instance created.\n",
      "2024-07-16 18:35:49,455 - stpipe.Spec2Pipeline.assign_wcs - INFO - AssignWcsStep instance created.\n",
      "2024-07-16 18:35:49,455 - stpipe.Spec2Pipeline - INFO - Spec2Pipeline instance created.\n",
      "2024-07-16 18:35:49,456 - stpipe.Spec2Pipeline.bkg_subtract - INFO - BackgroundStep instance created.\n",
      "2024-07-16 18:35:49,456 - stpipe.Spec2Pipeline.badpix_selfcal - INFO - BadpixSelfcalStep instance created.\n",
      "2024-07-16 18:35:49,457 - stpipe.Spec2Pipeline.assign_wcs - INFO - AssignWcsStep instance created.\n",
      "2024-07-16 18:35:49,457 - stpipe.Spec2Pipeline.imprint_subtract - INFO - ImprintStep instance created.\n",
      "2024-07-16 18:35:49,457 - stpipe.Spec2Pipeline.master_background_mos - INFO - MasterBackgroundMosStep instance created.\n",
      "2024-07-16 18:35:49,457 - stpipe.Spec2Pipeline.msa_flagging - INFO - MSAFlagOpenStep instance created.\n",
      "2024-07-16 18:35:49,458 - stpipe.Spec2Pipeline.badpix_selfcal - INFO - BadpixSelfcalStep instance created.\n",
      "2024-07-16 18:35:49,458 - stpipe.Spec2Pipeline.extract_2d - INFO - Extract2dStep instance created.\n",
      "2024-07-16 18:35:49,459 - stpipe.Spec2Pipeline.master_background_mos.flat_field - INFO - FlatFieldStep instance created.\n",
      "2024-07-16 18:35:49,459 - stpipe.Spec2Pipeline.master_background_mos - INFO - MasterBackgroundMosStep instance created.\n",
      "2024-07-16 18:35:49,459 - stpipe.Spec2Pipeline.msa_flagging - INFO - MSAFlagOpenStep instance created.\n",
      "2024-07-16 18:35:49,459 - stpipe.Spec2Pipeline.nsclean - INFO - NSCleanStep instance created.\n",
      "2024-07-16 18:35:49,460 - stpipe.Spec2Pipeline.master_background_mos.flat_field - INFO - FlatFieldStep instance created.\n",
      "2024-07-16 18:35:49,460 - stpipe.Spec2Pipeline.nsclean - INFO - NSCleanStep instance created.\n",
      "2024-07-16 18:35:49,460 - stpipe.Spec2Pipeline.master_background_mos.pathloss - INFO - PathLossStep instance created.\n",
      "2024-07-16 18:35:49,461 - stpipe.Spec2Pipeline.bkg_subtract - INFO - BackgroundStep instance created.\n",
      "2024-07-16 18:35:49,461 - stpipe.Spec2Pipeline.master_background_mos.pathloss - INFO - PathLossStep instance created.\n",
      "2024-07-16 18:35:49,461 - stpipe.Spec2Pipeline.master_background_mos.barshadow - INFO - BarShadowStep instance created.\n",
      "2024-07-16 18:35:49,462 - stpipe.Spec2Pipeline.bkg_subtract - INFO - BackgroundStep instance created.\n",
      "2024-07-16 18:35:49,462 - stpipe.Spec2Pipeline.imprint_subtract - INFO - ImprintStep instance created.\n",
      "2024-07-16 18:35:49,462 - stpipe.Spec2Pipeline.master_background_mos - INFO - MasterBackgroundMosStep instance created.\n",
      "2024-07-16 18:35:49,462 - stpipe.Spec2Pipeline.master_background_mos.barshadow - INFO - BarShadowStep instance created.\n",
      "2024-07-16 18:35:49,462 - stpipe.Spec2Pipeline.master_background_mos.photom - INFO - PhotomStep instance created.\n",
      "2024-07-16 18:35:49,463 - stpipe.Spec2Pipeline.imprint_subtract - INFO - ImprintStep instance created.\n",
      "2024-07-16 18:35:49,463 - stpipe.Spec2Pipeline.master_background_mos.flat_field - INFO - FlatFieldStep instance created.\n",
      "2024-07-16 18:35:49,463 - stpipe.Spec2Pipeline.master_background_mos.photom - INFO - PhotomStep instance created.\n",
      "2024-07-16 18:35:49,463 - stpipe.Spec2Pipeline.wavecorr - INFO - WavecorrStep instance created.\n",
      "2024-07-16 18:35:49,464 - stpipe.Spec2Pipeline.extract_2d - INFO - Extract2dStep instance created.\n",
      "2024-07-16 18:35:49,464 - stpipe.Spec2Pipeline.wavecorr - INFO - WavecorrStep instance created.\n",
      "2024-07-16 18:35:49,464 - stpipe.Spec2Pipeline.master_background_mos.pathloss - INFO - PathLossStep instance created.\n",
      "2024-07-16 18:35:49,464 - stpipe.Spec2Pipeline.extract_2d - INFO - Extract2dStep instance created.\n",
      "2024-07-16 18:35:49,464 - stpipe.Spec2Pipeline.flat_field - INFO - FlatFieldStep instance created.\n",
      "2024-07-16 18:35:49,465 - stpipe.Spec2Pipeline.flat_field - INFO - FlatFieldStep instance created.\n",
      "2024-07-16 18:35:49,465 - stpipe.Spec2Pipeline.srctype - INFO - SourceTypeStep instance created.\n",
      "2024-07-16 18:35:49,466 - stpipe.Spec2Pipeline.master_background_mos.barshadow - INFO - BarShadowStep instance created.\n",
      "2024-07-16 18:35:49,466 - stpipe.Spec2Pipeline.srctype - INFO - SourceTypeStep instance created.\n",
      "2024-07-16 18:35:49,466 - stpipe.Spec2Pipeline.straylight - INFO - StraylightStep instance created.\n",
      "2024-07-16 18:35:49,467 - stpipe.Spec2Pipeline.master_background_mos.photom - INFO - PhotomStep instance created.\n",
      "2024-07-16 18:35:49,467 - stpipe.Spec2Pipeline.straylight - INFO - StraylightStep instance created.\n",
      "2024-07-16 18:35:49,468 - stpipe.Spec2Pipeline.fringe - INFO - FringeStep instance created.\n",
      "2024-07-16 18:35:49,468 - stpipe.Spec2Pipeline.wavecorr - INFO - WavecorrStep instance created.\n",
      "2024-07-16 18:35:49,468 - stpipe.Spec2Pipeline.master_background_mos - INFO - MasterBackgroundMosStep instance created.\n",
      "2024-07-16 18:35:49,468 - stpipe.Spec2Pipeline.fringe - INFO - FringeStep instance created.\n",
      "2024-07-16 18:35:49,469 - stpipe.Spec2Pipeline.master_background_mos - INFO - MasterBackgroundMosStep instance created.\n",
      "2024-07-16 18:35:49,469 - stpipe.Spec2Pipeline.residual_fringe - INFO - ResidualFringeStep instance created.\n",
      "2024-07-16 18:35:49,469 - stpipe.Spec2Pipeline.flat_field - INFO - FlatFieldStep instance created.\n",
      "2024-07-16 18:35:49,469 - stpipe.Spec2Pipeline.master_background_mos.flat_field - INFO - FlatFieldStep instance created.\n",
      "2024-07-16 18:35:49,469 - stpipe.Spec2Pipeline.residual_fringe - INFO - ResidualFringeStep instance created.\n",
      "2024-07-16 18:35:49,470 - stpipe.Spec2Pipeline.master_background_mos.flat_field - INFO - FlatFieldStep instance created.\n",
      "2024-07-16 18:35:49,470 - stpipe.Spec2Pipeline.srctype - INFO - SourceTypeStep instance created.\n",
      "2024-07-16 18:35:49,470 - stpipe.Spec2Pipeline.pathloss - INFO - PathLossStep instance created.\n",
      "2024-07-16 18:35:49,470 - stpipe.Spec2Pipeline.master_background_mos.pathloss - INFO - PathLossStep instance created.\n",
      "2024-07-16 18:35:49,470 - stpipe.Spec2Pipeline.barshadow - INFO - BarShadowStep instance created.\n",
      "2024-07-16 18:35:49,471 - stpipe.Spec2Pipeline.pathloss - INFO - PathLossStep instance created.\n",
      "2024-07-16 18:35:49,471 - stpipe.Spec2Pipeline.straylight - INFO - StraylightStep instance created.\n",
      "2024-07-16 18:35:49,471 - stpipe.Spec2Pipeline.master_background_mos.pathloss - INFO - PathLossStep instance created.\n",
      "2024-07-16 18:35:49,471 - stpipe.Spec2Pipeline.wfss_contam - INFO - WfssContamStep instance created.\n",
      "2024-07-16 18:35:49,471 - stpipe.Spec2Pipeline.master_background_mos.barshadow - INFO - BarShadowStep instance created.\n",
      "2024-07-16 18:35:49,471 - stpipe.Spec2Pipeline.barshadow - INFO - BarShadowStep instance created.\n",
      "2024-07-16 18:35:49,472 - stpipe.Spec2Pipeline.fringe - INFO - FringeStep instance created.\n",
      "2024-07-16 18:35:49,472 - stpipe.Spec2Pipeline.master_background_mos.barshadow - INFO - BarShadowStep instance created.\n",
      "2024-07-16 18:35:49,472 - stpipe.Spec2Pipeline.photom - INFO - PhotomStep instance created.\n",
      "2024-07-16 18:35:49,472 - stpipe.Spec2Pipeline.master_background_mos.photom - INFO - PhotomStep instance created.\n",
      "2024-07-16 18:35:49,473 - stpipe.Spec2Pipeline.wfss_contam - INFO - WfssContamStep instance created.\n",
      "2024-07-16 18:35:49,473 - stpipe.Spec2Pipeline.master_background_mos.photom - INFO - PhotomStep instance created.\n",
      "2024-07-16 18:35:49,473 - stpipe.Spec2Pipeline.residual_fringe - INFO - ResidualFringeStep instance created.\n",
      "2024-07-16 18:35:49,473 - stpipe.Spec2Pipeline.pixel_replace - INFO - PixelReplaceStep instance created.\n",
      "2024-07-16 18:35:49,473 - stpipe.Spec2Pipeline.wavecorr - INFO - WavecorrStep instance created.\n",
      "2024-07-16 18:35:49,474 - stpipe.Spec2Pipeline.wavecorr - INFO - WavecorrStep instance created.\n",
      "2024-07-16 18:35:49,474 - stpipe.Spec2Pipeline.photom - INFO - PhotomStep instance created.\n",
      "2024-07-16 18:35:49,474 - stpipe.Spec2Pipeline.pathloss - INFO - PathLossStep instance created.\n",
      "2024-07-16 18:35:49,474 - stpipe.Spec2Pipeline.flat_field - INFO - FlatFieldStep instance created.\n",
      "2024-07-16 18:35:49,475 - stpipe.Spec2Pipeline.barshadow - INFO - BarShadowStep instance created.\n",
      "2024-07-16 18:35:49,475 - stpipe.Spec2Pipeline.flat_field - INFO - FlatFieldStep instance created.\n",
      "2024-07-16 18:35:49,475 - stpipe.Spec2Pipeline.pixel_replace - INFO - PixelReplaceStep instance created.\n",
      "2024-07-16 18:35:49,475 - stpipe.Spec2Pipeline.resample_spec - INFO - ResampleSpecStep instance created.\n",
      "2024-07-16 18:35:49,475 - stpipe.Spec2Pipeline.srctype - INFO - SourceTypeStep instance created.\n",
      "2024-07-16 18:35:49,476 - stpipe.Spec2Pipeline.wfss_contam - INFO - WfssContamStep instance created.\n",
      "2024-07-16 18:35:49,476 - stpipe.Spec2Pipeline.srctype - INFO - SourceTypeStep instance created.\n",
      "2024-07-16 18:35:49,476 - stpipe.Spec2Pipeline.resample_spec - INFO - ResampleSpecStep instance created.\n",
      "2024-07-16 18:35:49,476 - stpipe.Spec2Pipeline.straylight - INFO - StraylightStep instance created.\n",
      "2024-07-16 18:35:49,477 - stpipe.Spec2Pipeline.photom - INFO - PhotomStep instance created.\n",
      "2024-07-16 18:35:49,477 - stpipe.Spec2Pipeline.straylight - INFO - StraylightStep instance created.\n",
      "2024-07-16 18:35:49,478 - stpipe.Spec2Pipeline.fringe - INFO - FringeStep instance created.\n",
      "2024-07-16 18:35:49,478 - stpipe.Spec2Pipeline.cube_build - INFO - CubeBuildStep instance created.\n",
      "2024-07-16 18:35:49,478 - stpipe.Spec2Pipeline.pixel_replace - INFO - PixelReplaceStep instance created.\n",
      "2024-07-16 18:35:49,478 - stpipe.Spec2Pipeline.fringe - INFO - FringeStep instance created.\n",
      "2024-07-16 18:35:49,479 - stpipe.Spec2Pipeline.cube_build - INFO - CubeBuildStep instance created.\n",
      "2024-07-16 18:35:49,479 - stpipe.Spec2Pipeline.residual_fringe - INFO - ResidualFringeStep instance created.\n",
      "2024-07-16 18:35:49,479 - stpipe.Spec2Pipeline.residual_fringe - INFO - ResidualFringeStep instance created.\n",
      "2024-07-16 18:35:49,480 - stpipe.Spec2Pipeline.resample_spec - INFO - ResampleSpecStep instance created.\n",
      "2024-07-16 18:35:49,480 - stpipe.Spec2Pipeline.extract_1d - INFO - Extract1dStep instance created.\n",
      "2024-07-16 18:35:49,480 - stpipe.Spec2Pipeline.pathloss - INFO - PathLossStep instance created.\n",
      "2024-07-16 18:35:49,480 - stpipe.Spec2Pipeline.pathloss - INFO - PathLossStep instance created.\n",
      "2024-07-16 18:35:49,481 - stpipe.Spec2Pipeline.extract_1d - INFO - Extract1dStep instance created.\n",
      "2024-07-16 18:35:49,481 - stpipe.Spec2Pipeline.barshadow - INFO - BarShadowStep instance created.\n",
      "2024-07-16 18:35:49,481 - stpipe.Spec2Pipeline.barshadow - INFO - BarShadowStep instance created.\n",
      "2024-07-16 18:35:49,482 - stpipe.Spec2Pipeline.cube_build - INFO - CubeBuildStep instance created.\n",
      "2024-07-16 18:35:49,483 - stpipe.Spec2Pipeline.wfss_contam - INFO - WfssContamStep instance created.\n",
      "2024-07-16 18:35:49,483 - stpipe.Spec2Pipeline.wfss_contam - INFO - WfssContamStep instance created.\n",
      "2024-07-16 18:35:49,483 - stpipe.Spec2Pipeline.photom - INFO - PhotomStep instance created.\n",
      "2024-07-16 18:35:49,484 - stpipe.Spec2Pipeline.photom - INFO - PhotomStep instance created.\n",
      "2024-07-16 18:35:49,484 - stpipe.Spec2Pipeline.extract_1d - INFO - Extract1dStep instance created.\n",
      "2024-07-16 18:35:49,485 - stpipe.Spec2Pipeline.pixel_replace - INFO - PixelReplaceStep instance created.\n",
      "2024-07-16 18:35:49,485 - stpipe.Spec2Pipeline.pixel_replace - INFO - PixelReplaceStep instance created.\n",
      "2024-07-16 18:35:49,486 - stpipe.Spec2Pipeline.resample_spec - INFO - ResampleSpecStep instance created.\n",
      "2024-07-16 18:35:49,486 - stpipe.Spec2Pipeline.resample_spec - INFO - ResampleSpecStep instance created.\n",
      "2024-07-16 18:35:49,488 - stpipe.Spec2Pipeline.cube_build - INFO - CubeBuildStep instance created.\n",
      "2024-07-16 18:35:49,489 - stpipe.Spec2Pipeline.cube_build - INFO - CubeBuildStep instance created.\n",
      "2024-07-16 18:35:49,490 - stpipe.Spec2Pipeline.extract_1d - INFO - Extract1dStep instance created.\n",
      "2024-07-16 18:35:49,490 - stpipe.Spec2Pipeline.extract_1d - INFO - Extract1dStep instance created.\n",
      "2024-07-16 18:35:52,019 - CRDS - ERROR -  Error determining best reference for 'pars-badpixselfcalstep'  =   Unknown reference type 'pars-badpixselfcalstep'\n",
      "2024-07-16 18:35:52,023 - CRDS - ERROR -  Error determining best reference for 'pars-nscleanstep'  =   Unknown reference type 'pars-nscleanstep'\n",
      "2024-07-16 18:35:52,064 - stpipe - INFO - PARS-RESAMPLESPECSTEP parameters found: /Users/dumont/crds_cache/references/jwst/nirspec/jwst_nirspec_pars-resamplespecstep_0001.asdf\n",
      "2024-07-16 18:35:52,085 - CRDS - ERROR -  Error determining best reference for 'pars-badpixselfcalstep'  =   Unknown reference type 'pars-badpixselfcalstep'\n",
      "2024-07-16 18:35:52,087 - CRDS - ERROR -  Error determining best reference for 'pars-nscleanstep'  =   Unknown reference type 'pars-nscleanstep'\n",
      "2024-07-16 18:35:52,122 - stpipe - INFO - PARS-RESAMPLESPECSTEP parameters found: /Users/dumont/crds_cache/references/jwst/nirspec/jwst_nirspec_pars-resamplespecstep_0001.asdf\n",
      "2024-07-16 18:35:52,182 - CRDS - ERROR -  Error determining best reference for 'pars-badpixselfcalstep'  =   Unknown reference type 'pars-badpixselfcalstep'\n",
      "2024-07-16 18:35:52,184 - CRDS - ERROR -  Error determining best reference for 'pars-nscleanstep'  =   Unknown reference type 'pars-nscleanstep'\n",
      "2024-07-16 18:35:52,201 - CRDS - ERROR -  Error determining best reference for 'pars-badpixselfcalstep'  =   Unknown reference type 'pars-badpixselfcalstep'\n",
      "2024-07-16 18:35:52,204 - CRDS - ERROR -  Error determining best reference for 'pars-nscleanstep'  =   Unknown reference type 'pars-nscleanstep'\n",
      "2024-07-16 18:35:52,215 - stpipe - INFO - PARS-RESAMPLESPECSTEP parameters found: /Users/dumont/crds_cache/references/jwst/nirspec/jwst_nirspec_pars-resamplespecstep_0001.asdf\n",
      "2024-07-16 18:35:52,236 - CRDS - ERROR -  Error determining best reference for 'pars-badpixselfcalstep'  =   Unknown reference type 'pars-badpixselfcalstep'\n",
      "2024-07-16 18:35:52,239 - CRDS - ERROR -  Error determining best reference for 'pars-nscleanstep'  =   Unknown reference type 'pars-nscleanstep'\n",
      "2024-07-16 18:35:52,241 - stpipe - INFO - PARS-RESAMPLESPECSTEP parameters found: /Users/dumont/crds_cache/references/jwst/nirspec/jwst_nirspec_pars-resamplespecstep_0001.asdf\n",
      "2024-07-16 18:35:52,277 - stpipe - INFO - PARS-RESAMPLESPECSTEP parameters found: /Users/dumont/crds_cache/references/jwst/nirspec/jwst_nirspec_pars-resamplespecstep_0001.asdf\n",
      "2024-07-16 18:48:05,697 - CRDS - ERROR -  Error determining best reference for 'pars-badpixselfcalstep'  =   Unknown reference type 'pars-badpixselfcalstep'\n",
      "2024-07-16 18:48:05,700 - CRDS - ERROR -  Error determining best reference for 'pars-nscleanstep'  =   Unknown reference type 'pars-nscleanstep'\n",
      "2024-07-16 18:48:07,341 - CRDS - ERROR -  Error determining best reference for 'pars-badpixselfcalstep'  =   Unknown reference type 'pars-badpixselfcalstep'\n",
      "2024-07-16 18:48:07,344 - CRDS - ERROR -  Error determining best reference for 'pars-nscleanstep'  =   Unknown reference type 'pars-nscleanstep'\n",
      "2024-07-16 18:48:07,741 - CRDS - ERROR -  Error determining best reference for 'pars-badpixselfcalstep'  =   Unknown reference type 'pars-badpixselfcalstep'\n",
      "2024-07-16 18:48:07,743 - CRDS - ERROR -  Error determining best reference for 'pars-nscleanstep'  =   Unknown reference type 'pars-nscleanstep'\n",
      "2024-07-16 18:48:10,719 - CRDS - ERROR -  Error determining best reference for 'pars-badpixselfcalstep'  =   Unknown reference type 'pars-badpixselfcalstep'\n",
      "2024-07-16 18:48:10,721 - CRDS - ERROR -  Error determining best reference for 'pars-nscleanstep'  =   Unknown reference type 'pars-nscleanstep'\n",
      "2024-07-16 18:48:13,719 - CRDS - ERROR -  Error determining best reference for 'pars-badpixselfcalstep'  =   Unknown reference type 'pars-badpixselfcalstep'\n",
      "2024-07-16 18:48:13,721 - CRDS - ERROR -  Error determining best reference for 'pars-nscleanstep'  =   Unknown reference type 'pars-nscleanstep'\n",
      "2024-07-16 19:01:48,603 - CRDS - ERROR -  Error determining best reference for 'pars-badpixselfcalstep'  =   Unknown reference type 'pars-badpixselfcalstep'\n",
      "2024-07-16 19:01:48,606 - CRDS - ERROR -  Error determining best reference for 'pars-nscleanstep'  =   Unknown reference type 'pars-nscleanstep'\n",
      "2024-07-16 19:01:57,482 - CRDS - ERROR -  Error determining best reference for 'pars-badpixselfcalstep'  =   Unknown reference type 'pars-badpixselfcalstep'\n",
      "2024-07-16 19:01:57,486 - CRDS - ERROR -  Error determining best reference for 'pars-nscleanstep'  =   Unknown reference type 'pars-nscleanstep'\n",
      "2024-07-16 19:02:04,943 - CRDS - ERROR -  Error determining best reference for 'pars-badpixselfcalstep'  =   Unknown reference type 'pars-badpixselfcalstep'\n",
      "2024-07-16 19:02:04,947 - CRDS - ERROR -  Error determining best reference for 'pars-nscleanstep'  =   Unknown reference type 'pars-nscleanstep'\n",
      "2024-07-16 19:02:05,401 - CRDS - ERROR -  Error determining best reference for 'pars-badpixselfcalstep'  =   Unknown reference type 'pars-badpixselfcalstep'\n",
      "2024-07-16 19:02:05,405 - CRDS - ERROR -  Error determining best reference for 'pars-nscleanstep'  =   Unknown reference type 'pars-nscleanstep'\n",
      "2024-07-16 19:02:24,626 - CRDS - ERROR -  Error determining best reference for 'pars-badpixselfcalstep'  =   Unknown reference type 'pars-badpixselfcalstep'\n",
      "2024-07-16 19:02:24,629 - CRDS - ERROR -  Error determining best reference for 'pars-nscleanstep'  =   Unknown reference type 'pars-nscleanstep'\n",
      "2024-07-16 19:17:44,281 - CRDS - ERROR -  Error determining best reference for 'pars-badpixselfcalstep'  =   Unknown reference type 'pars-badpixselfcalstep'\n",
      "2024-07-16 19:17:44,283 - CRDS - ERROR -  Error determining best reference for 'pars-nscleanstep'  =   Unknown reference type 'pars-nscleanstep'\n",
      "2024-07-16 19:17:45,033 - CRDS - ERROR -  Error determining best reference for 'pars-badpixselfcalstep'  =   Unknown reference type 'pars-badpixselfcalstep'\n",
      "2024-07-16 19:17:45,038 - CRDS - ERROR -  Error determining best reference for 'pars-nscleanstep'  =   Unknown reference type 'pars-nscleanstep'\n",
      "2024-07-16 19:17:46,377 - CRDS - ERROR -  Error determining best reference for 'pars-badpixselfcalstep'  =   Unknown reference type 'pars-badpixselfcalstep'\n",
      "2024-07-16 19:17:46,380 - CRDS - ERROR -  Error determining best reference for 'pars-nscleanstep'  =   Unknown reference type 'pars-nscleanstep'\n",
      "2024-07-16 19:18:07,453 - CRDS - ERROR -  Error determining best reference for 'pars-badpixselfcalstep'  =   Unknown reference type 'pars-badpixselfcalstep'\n",
      "2024-07-16 19:18:07,457 - CRDS - ERROR -  Error determining best reference for 'pars-nscleanstep'  =   Unknown reference type 'pars-nscleanstep'\n",
      "2024-07-16 19:18:19,968 - CRDS - ERROR -  Error determining best reference for 'pars-badpixselfcalstep'  =   Unknown reference type 'pars-badpixselfcalstep'\n",
      "2024-07-16 19:18:19,972 - CRDS - ERROR -  Error determining best reference for 'pars-nscleanstep'  =   Unknown reference type 'pars-nscleanstep'\n"
     ]
    }
   ],
   "source": [
    "from JWST_PIPELINE import PIPELINE_DETECTOR2,mk_config_det2\n",
    "\n",
    "###### LOAD ASSOCIATION FILES\n",
    "asn_files = glob(out_dir+\"/*.json\")\n",
    "## MAKE CONFIG FILE ##\n",
    "mk_config_det2(out_dir,asn_files[0]) ### CHOOSE RANDOM ASSOCIATION FILE\n",
    "print('Will run the pipeline on {} files'.format(len(asn_files)))\n",
    "# the output list should be the same length as the files to run\n",
    "outptd = [out_dir for _ in range(len(asn_files))]\n",
    "# set the pool and run multiprocess\n",
    "cores2use = 5 ### NUMBER OF CORES TO USE \n",
    "with multiprocessing.Pool(cores2use) as pool:\n",
    "    pool.starmap(PIPELINE_DETECTOR2, zip(asn_files, outptd))\n",
    "\n",
    "### COPY CAL TO SAVING PATH #############\n",
    "for cal_file in glob(out_dir + \"*_cal.fits\"):\n",
    "    cal_folder = saving_path + 'CAL/'\n",
    "    if not os.path.exists(cal_folder):\n",
    "        os.makedirs(cal_folder)\n",
    "    shutil.copy(cal_file, cal_folder)           "
   ]
  },
  {
   "cell_type": "markdown",
   "id": "3d2d7d00",
   "metadata": {},
   "source": [
    "# RUN STAGE3 PIPELINE\n",
    "\n",
    "Here I run the STAGE3 pipeline with <span style=\"color:blue\"> OUTLIER_DETECTION = ON </span>, <span style=\"color:blue\"> cube_build.weighting='drizzle' </span> and instrument align cubes <span style=\"color:blue\"> cube_build.coord_system= \"ifualign\"  </span>. To change the type of weighting function for the cube reconstruction go to the JWST_PIPELNE.py to the function <code>mk_config_det3() </code> and change <span style=\"color:blue\"> cube_build.weighting='emsm' </span>, and for sky-align cubes (the default output of the piepline) set <span style=\"color:blue\"> cube_build.coord_system = \"skyalign\"  </span>\n",
    "\n",
    "\n"
   ]
  },
  {
   "cell_type": "markdown",
   "id": "fcac15b2",
   "metadata": {},
   "source": [
    "#### Now copy the STAGE3 ASN_JASON FILES\n",
    "PLEASE DELETE STAGE 2 JSON FILES AND COPY STAGE 3 JSON FILES IN THE OUT_DIR"
   ]
  },
  {
   "cell_type": "code",
   "execution_count": 6,
   "id": "881317a3",
   "metadata": {},
   "outputs": [
    {
     "name": "stdout",
     "output_type": "stream",
     "text": [
      "Copping json files\n",
      "Done copping json files\n"
     ]
    }
   ],
   "source": [
    "#### Lets first loop over the JASON files in the working directory and delete them.\n",
    "for file in glob(out_dir + \"*.json\"):\n",
    "    os.remove(file)  \n",
    "###### COPY STAGE2 FILES DIRECTORY ################\n",
    "print(\"Copping json files\")\n",
    "for folder in list_folders:\n",
    "    for json_file in glob(folder.rsplit(\"/\",1)[0]+\"/jw02016-*\" + \"/*.json\" ) :\n",
    "        shutil.copy(json_file, out_dir)\n",
    "print(\"Done copping json files\")"
   ]
  },
  {
   "cell_type": "code",
   "execution_count": 5,
   "id": "ab626c85",
   "metadata": {
    "scrolled": true
   },
   "outputs": [
    {
     "name": "stdout",
     "output_type": "stream",
     "text": [
      "######################### CREATING CONFIGURATION FILE ###############################\n"
     ]
    },
    {
     "name": "stderr",
     "output_type": "stream",
     "text": [
      "2024-07-16 22:54:08,081 - stpipe - INFO - PARS-OUTLIERDETECTIONSTEP parameters found: /Users/dumont/crds_cache/references/jwst/nirspec/jwst_nirspec_pars-outlierdetectionstep_0001.asdf\n",
      "2024-07-16 22:54:08,099 - stpipe - INFO - PARS-RESAMPLESPECSTEP parameters found: /Users/dumont/crds_cache/references/jwst/nirspec/jwst_nirspec_pars-resamplespecstep_0001.asdf\n",
      "2024-07-16 22:54:08,119 - CRDS - ERROR -  Error determining best reference for 'pars-spectralleakstep'  =   Unknown reference type 'pars-spectralleakstep'\n",
      "2024-07-16 22:54:08,148 - stpipe.Spec3Pipeline - INFO - Spec3Pipeline instance created.\n",
      "2024-07-16 22:54:08,150 - stpipe.Spec3Pipeline.assign_mtwcs - INFO - AssignMTWcsStep instance created.\n",
      "2024-07-16 22:54:08,151 - stpipe.Spec3Pipeline.master_background - INFO - MasterBackgroundStep instance created.\n",
      "2024-07-16 22:54:08,154 - stpipe.Spec3Pipeline.mrs_imatch - INFO - MRSIMatchStep instance created.\n",
      "2024-07-16 22:54:08,157 - stpipe.Spec3Pipeline.outlier_detection - INFO - OutlierDetectionStep instance created.\n",
      "2024-07-16 22:54:08,159 - stpipe.Spec3Pipeline.pixel_replace - INFO - PixelReplaceStep instance created.\n",
      "2024-07-16 22:54:08,161 - stpipe.Spec3Pipeline.resample_spec - INFO - ResampleSpecStep instance created.\n",
      "2024-07-16 22:54:08,164 - stpipe.Spec3Pipeline.cube_build - INFO - CubeBuildStep instance created.\n",
      "2024-07-16 22:54:08,166 - stpipe.Spec3Pipeline.extract_1d - INFO - Extract1dStep instance created.\n",
      "2024-07-16 22:54:08,168 - stpipe.Spec3Pipeline.photom - INFO - PhotomStep instance created.\n",
      "2024-07-16 22:54:08,170 - stpipe.Spec3Pipeline.combine_1d - INFO - Combine1dStep instance created.\n",
      "2024-07-16 22:54:08,172 - stpipe.Spec3Pipeline.spectral_leak - INFO - SpectralLeakStep instance created.\n"
     ]
    },
    {
     "name": "stdout",
     "output_type": "stream",
     "text": [
      "######################### CONFIGURATION FILE SAVED ###############################\n",
      "Will run the pipeline on 2 files\n"
     ]
    },
    {
     "name": "stderr",
     "output_type": "stream",
     "text": [
      "2024-07-16 22:54:12,618 - stpipe.Spec3Pipeline - INFO - Spec3Pipeline instance created.\n",
      "2024-07-16 22:54:12,619 - stpipe.Spec3Pipeline - INFO - Spec3Pipeline instance created.\n",
      "2024-07-16 22:54:12,620 - stpipe.Spec3Pipeline.assign_mtwcs - INFO - AssignMTWcsStep instance created.\n",
      "2024-07-16 22:54:12,620 - stpipe.Spec3Pipeline.assign_mtwcs - INFO - AssignMTWcsStep instance created.\n",
      "2024-07-16 22:54:12,621 - stpipe.Spec3Pipeline.master_background - INFO - MasterBackgroundStep instance created.\n",
      "2024-07-16 22:54:12,621 - stpipe.Spec3Pipeline.master_background - INFO - MasterBackgroundStep instance created.\n",
      "2024-07-16 22:54:12,622 - stpipe.Spec3Pipeline.mrs_imatch - INFO - MRSIMatchStep instance created.\n",
      "2024-07-16 22:54:12,622 - stpipe.Spec3Pipeline.mrs_imatch - INFO - MRSIMatchStep instance created.\n",
      "2024-07-16 22:54:12,623 - stpipe.Spec3Pipeline.outlier_detection - INFO - OutlierDetectionStep instance created.\n",
      "2024-07-16 22:54:12,624 - stpipe.Spec3Pipeline.outlier_detection - INFO - OutlierDetectionStep instance created.\n",
      "2024-07-16 22:54:12,625 - stpipe.Spec3Pipeline.pixel_replace - INFO - PixelReplaceStep instance created.\n",
      "2024-07-16 22:54:12,625 - stpipe.Spec3Pipeline.pixel_replace - INFO - PixelReplaceStep instance created.\n",
      "2024-07-16 22:54:12,626 - stpipe.Spec3Pipeline.resample_spec - INFO - ResampleSpecStep instance created.\n",
      "2024-07-16 22:54:12,627 - stpipe.Spec3Pipeline.resample_spec - INFO - ResampleSpecStep instance created.\n",
      "2024-07-16 22:54:12,628 - stpipe.Spec3Pipeline.cube_build - INFO - CubeBuildStep instance created.\n",
      "2024-07-16 22:54:12,629 - stpipe.Spec3Pipeline.cube_build - INFO - CubeBuildStep instance created.\n",
      "2024-07-16 22:54:12,630 - stpipe.Spec3Pipeline.extract_1d - INFO - Extract1dStep instance created.\n",
      "2024-07-16 22:54:12,631 - stpipe.Spec3Pipeline.extract_1d - INFO - Extract1dStep instance created.\n",
      "2024-07-16 22:54:12,632 - stpipe.Spec3Pipeline.photom - INFO - PhotomStep instance created.\n",
      "2024-07-16 22:54:12,632 - stpipe.Spec3Pipeline.photom - INFO - PhotomStep instance created.\n",
      "2024-07-16 22:54:12,633 - stpipe.Spec3Pipeline.combine_1d - INFO - Combine1dStep instance created.\n",
      "2024-07-16 22:54:12,633 - stpipe.Spec3Pipeline.combine_1d - INFO - Combine1dStep instance created.\n",
      "2024-07-16 22:54:12,634 - stpipe.Spec3Pipeline.spectral_leak - INFO - SpectralLeakStep instance created.\n",
      "2024-07-16 22:54:12,634 - stpipe.Spec3Pipeline.spectral_leak - INFO - SpectralLeakStep instance created.\n",
      "2024-07-16 22:54:20,780 - stpipe - INFO - PARS-OUTLIERDETECTIONSTEP parameters found: /Users/dumont/crds_cache/references/jwst/nirspec/jwst_nirspec_pars-outlierdetectionstep_0001.asdf\n",
      "2024-07-16 22:54:20,811 - stpipe - INFO - PARS-RESAMPLESPECSTEP parameters found: /Users/dumont/crds_cache/references/jwst/nirspec/jwst_nirspec_pars-resamplespecstep_0001.asdf\n",
      "2024-07-16 22:54:20,845 - CRDS - ERROR -  Error determining best reference for 'pars-spectralleakstep'  =   Unknown reference type 'pars-spectralleakstep'\n",
      "2024-07-16 22:54:21,392 - stpipe - INFO - PARS-OUTLIERDETECTIONSTEP parameters found: /Users/dumont/crds_cache/references/jwst/nirspec/jwst_nirspec_pars-outlierdetectionstep_0001.asdf\n",
      "2024-07-16 22:54:21,411 - stpipe - INFO - PARS-RESAMPLESPECSTEP parameters found: /Users/dumont/crds_cache/references/jwst/nirspec/jwst_nirspec_pars-resamplespecstep_0001.asdf\n",
      "2024-07-16 22:54:21,434 - CRDS - ERROR -  Error determining best reference for 'pars-spectralleakstep'  =   Unknown reference type 'pars-spectralleakstep'\n"
     ]
    }
   ],
   "source": [
    "# LOAD THE calwebb_spec3 pipeline\n",
    "from JWST_PIPELINE import PIPELINE_DETECTOR3,mk_config_det3\n",
    "\n",
    "###### LOAD ASSOCIATION FILES\n",
    "asn_files = glob(out_dir+\"/*.json\") ## ALL JASON FILES IN WORKING DIRECTORY \n",
    "## MAKE CONFIG FILE ##\n",
    "mk_config_det3(out_dir,asn_files[0]) ### CHOOSE RANDOM ASSOCIATION FILE\n",
    "print('Will run the pipeline on {} files'.format(len(asn_files)))\n",
    "# the output list should be the same length as the files to run\n",
    "outptd = [out_dir for _ in range(len(asn_files))]\n",
    "# set the pool and run multiprocess\n",
    "cores2use = 5 ### NUMBER OF CORES TO USE \n",
    "with multiprocessing.Pool(cores2use) as pool:\n",
    "    pool.starmap(PIPELINE_DETECTOR3, zip(asn_files, outptd))\n",
    "\n",
    "\n",
    "### COPY CAL TO SAVING PATH #############\n",
    "for cube in glob(out_dir + \"*_s3d.fits\"):\n",
    "    drizsle_folder = saving_path + 'DRIZZLE/'\n",
    "    if not os.path.exists(drizsle_folder):\n",
    "        os.makedirs(drizsle_folder)\n",
    "    shutil.copy(cube, drizsle_folder)   \n",
    "#############################################################################################\n",
    "### Remove all files from working directory   \n",
    "#### Lets first loop over the JASON files in the working directory and delete them.\n",
    "for file in glob(out_dir + \"*.fits\"):\n",
    "    os.remove(file)  \n",
    "for file in glob(out_dir + \"*.json\"):\n",
    "    os.remove(file)  \n",
    "for file in glob(saving_path + \"*_crf.fits\"):\n",
    "    os.remove(file)        \n",
    "    \n",
    "### COPY LOG FILES TO SAVING PATH #############\n",
    "for log in glob(out_dir + \"/*\"):\n",
    "    log_folder = saving_path + 'LOG/'\n",
    "    if not os.path.exists(log_folder):\n",
    "        os.makedirs(log_folder)\n",
    "    if os.path.isfile(log):\n",
    "        shutil.copy(log, log_folder)    \n",
    "        os.remove(log)  "
   ]
  }
 ],
 "metadata": {
  "kernelspec": {
   "display_name": "Python 3 (ipykernel)",
   "language": "python",
   "name": "python3"
  },
  "language_info": {
   "codemirror_mode": {
    "name": "ipython",
    "version": 3
   },
   "file_extension": ".py",
   "mimetype": "text/x-python",
   "name": "python",
   "nbconvert_exporter": "python",
   "pygments_lexer": "ipython3",
   "version": "3.11.9"
  }
 },
 "nbformat": 4,
 "nbformat_minor": 5
}
